{
 "cells": [
  {
   "cell_type": "code",
   "execution_count": null,
   "outputs": [],
   "source": [],
   "metadata": {
    "collapsed": false,
    "pycharm": {
     "name": "#%%\n"
    }
   }
  },
  {
   "cell_type": "code",
   "execution_count": 2,
   "outputs": [
    {
     "name": "stderr",
     "output_type": "stream",
     "text": [
      "/Users/claudius/.local/share/virtualenvs/hydroelectric-efficiency-curve-estimation-TUamGH_s/lib/python3.9/site-packages/statsmodels/regression/linear_model.py:1728: RuntimeWarning: divide by zero encountered in true_divide\n",
      "  return 1 - (np.divide(self.nobs - self.k_constant, self.df_resid)\n",
      "/Users/claudius/.local/share/virtualenvs/hydroelectric-efficiency-curve-estimation-TUamGH_s/lib/python3.9/site-packages/statsmodels/regression/linear_model.py:1728: RuntimeWarning: divide by zero encountered in true_divide\n",
      "  return 1 - (np.divide(self.nobs - self.k_constant, self.df_resid)\n",
      "/Users/claudius/.local/share/virtualenvs/hydroelectric-efficiency-curve-estimation-TUamGH_s/lib/python3.9/site-packages/statsmodels/regression/linear_model.py:1728: RuntimeWarning: divide by zero encountered in true_divide\n",
      "  return 1 - (np.divide(self.nobs - self.k_constant, self.df_resid)\n",
      "/Users/claudius/.local/share/virtualenvs/hydroelectric-efficiency-curve-estimation-TUamGH_s/lib/python3.9/site-packages/statsmodels/regression/linear_model.py:1728: RuntimeWarning: divide by zero encountered in true_divide\n",
      "  return 1 - (np.divide(self.nobs - self.k_constant, self.df_resid)\n"
     ]
    },
    {
     "data": {
      "text/plain": "          aic         bic  durbin_watson        fvalue      f_pvalue  \\\n2 -334.617894 -323.902220       1.098404  32629.379321  1.167725e-98   \n3 -348.269003 -328.980790       1.302368  23801.277144  8.007822e-94   \n4 -362.819182 -332.815296       1.532373  20501.734215  3.230775e-87   \n5 -375.996007 -335.276447       1.598512     31.208521  2.902443e-19   \n6 -371.976920 -324.827957       1.580016     25.784861  2.582373e-17   \n\n   jarque_bera                                            pvalues  \\\n2     0.001597  queda         1.808776e-16\nvazao         2.050...   \n3     0.243613  queda          0.644218\nvazao          0.58042...   \n4     0.145488  queda           0.032476\nvazao           0.031...   \n5     0.186630  queda           0.975032\nvazao           0.773...   \n6     0.085077  queda           0.788075\nvazao           0.924...   \n\n                                              params  \\\n2  queda         0.036657\nvazao         0.000637\n...   \n3  queda          1.406421e-02\nvazao          2.5...   \n4  queda          -6.303398e-01\nvazao           9...   \n5  queda          -2.083508e-04\nvazao          -1...   \n6  queda           1.392143e-07\nvazao           2...   \n\n                                               resid  rsquared  rsquared_adj  \\\n2  0    -0.012810\n1    -0.007336\n2    -0.002086\n3...  0.999645      0.999614   \n3  0    -0.004658\n1    -0.006316\n2    -0.001892\n3...  0.999748      0.999706   \n4  0     0.006758\n1    -0.001058\n2    -0.002896\n3...  0.999829      0.999781   \n5  0     0.005863\n1     0.000635\n2     0.003954\n3...  0.927363      0.897648   \n6  0     0.005579\n1     0.001634\n2     0.003247\n3...  0.929612      0.893559   \n\n   shapiro_pvalue                                        resid_press  \\\n2        0.000582  0    -0.013756\n1    -0.007901\n2    -0.002311\n3...   \n3        0.099598  0    -0.005792\n1    -0.007579\n2    -0.002350\n3...   \n4        0.119007  0     0.010825\n1    -0.001459\n2    -0.004021\n3...   \n5        0.110423  0     0.013625\n1     0.000993\n2     0.006342\n3...   \n6        0.037356  0     0.013214\n1     0.002656\n2     0.006297\n3...   \n\n   ess_press        ess   r_press   delta_r  \n2   0.017825  43.688968  0.999592  0.000053  \n3   0.014081  43.693485  0.999678  0.000070  \n4   0.015532  43.697040  0.999645  0.000185  \n5   0.010369   0.065925  0.842723  0.084640  \n6   0.013388   0.066085  0.797410  0.132202  ",
      "text/html": "<div>\n<style scoped>\n    .dataframe tbody tr th:only-of-type {\n        vertical-align: middle;\n    }\n\n    .dataframe tbody tr th {\n        vertical-align: top;\n    }\n\n    .dataframe thead th {\n        text-align: right;\n    }\n</style>\n<table border=\"1\" class=\"dataframe\">\n  <thead>\n    <tr style=\"text-align: right;\">\n      <th></th>\n      <th>aic</th>\n      <th>bic</th>\n      <th>durbin_watson</th>\n      <th>fvalue</th>\n      <th>f_pvalue</th>\n      <th>jarque_bera</th>\n      <th>pvalues</th>\n      <th>params</th>\n      <th>resid</th>\n      <th>rsquared</th>\n      <th>rsquared_adj</th>\n      <th>shapiro_pvalue</th>\n      <th>resid_press</th>\n      <th>ess_press</th>\n      <th>ess</th>\n      <th>r_press</th>\n      <th>delta_r</th>\n    </tr>\n  </thead>\n  <tbody>\n    <tr>\n      <th>2</th>\n      <td>-334.617894</td>\n      <td>-323.902220</td>\n      <td>1.098404</td>\n      <td>32629.379321</td>\n      <td>1.167725e-98</td>\n      <td>0.001597</td>\n      <td>queda         1.808776e-16\nvazao         2.050...</td>\n      <td>queda         0.036657\nvazao         0.000637\n...</td>\n      <td>0    -0.012810\n1    -0.007336\n2    -0.002086\n3...</td>\n      <td>0.999645</td>\n      <td>0.999614</td>\n      <td>0.000582</td>\n      <td>0    -0.013756\n1    -0.007901\n2    -0.002311\n3...</td>\n      <td>0.017825</td>\n      <td>43.688968</td>\n      <td>0.999592</td>\n      <td>0.000053</td>\n    </tr>\n    <tr>\n      <th>3</th>\n      <td>-348.269003</td>\n      <td>-328.980790</td>\n      <td>1.302368</td>\n      <td>23801.277144</td>\n      <td>8.007822e-94</td>\n      <td>0.243613</td>\n      <td>queda          0.644218\nvazao          0.58042...</td>\n      <td>queda          1.406421e-02\nvazao          2.5...</td>\n      <td>0    -0.004658\n1    -0.006316\n2    -0.001892\n3...</td>\n      <td>0.999748</td>\n      <td>0.999706</td>\n      <td>0.099598</td>\n      <td>0    -0.005792\n1    -0.007579\n2    -0.002350\n3...</td>\n      <td>0.014081</td>\n      <td>43.693485</td>\n      <td>0.999678</td>\n      <td>0.000070</td>\n    </tr>\n    <tr>\n      <th>4</th>\n      <td>-362.819182</td>\n      <td>-332.815296</td>\n      <td>1.532373</td>\n      <td>20501.734215</td>\n      <td>3.230775e-87</td>\n      <td>0.145488</td>\n      <td>queda           0.032476\nvazao           0.031...</td>\n      <td>queda          -6.303398e-01\nvazao           9...</td>\n      <td>0     0.006758\n1    -0.001058\n2    -0.002896\n3...</td>\n      <td>0.999829</td>\n      <td>0.999781</td>\n      <td>0.119007</td>\n      <td>0     0.010825\n1    -0.001459\n2    -0.004021\n3...</td>\n      <td>0.015532</td>\n      <td>43.697040</td>\n      <td>0.999645</td>\n      <td>0.000185</td>\n    </tr>\n    <tr>\n      <th>5</th>\n      <td>-375.996007</td>\n      <td>-335.276447</td>\n      <td>1.598512</td>\n      <td>31.208521</td>\n      <td>2.902443e-19</td>\n      <td>0.186630</td>\n      <td>queda           0.975032\nvazao           0.773...</td>\n      <td>queda          -2.083508e-04\nvazao          -1...</td>\n      <td>0     0.005863\n1     0.000635\n2     0.003954\n3...</td>\n      <td>0.927363</td>\n      <td>0.897648</td>\n      <td>0.110423</td>\n      <td>0     0.013625\n1     0.000993\n2     0.006342\n3...</td>\n      <td>0.010369</td>\n      <td>0.065925</td>\n      <td>0.842723</td>\n      <td>0.084640</td>\n    </tr>\n    <tr>\n      <th>6</th>\n      <td>-371.976920</td>\n      <td>-324.827957</td>\n      <td>1.580016</td>\n      <td>25.784861</td>\n      <td>2.582373e-17</td>\n      <td>0.085077</td>\n      <td>queda           0.788075\nvazao           0.924...</td>\n      <td>queda           1.392143e-07\nvazao           2...</td>\n      <td>0     0.005579\n1     0.001634\n2     0.003247\n3...</td>\n      <td>0.929612</td>\n      <td>0.893559</td>\n      <td>0.037356</td>\n      <td>0     0.013214\n1     0.002656\n2     0.006297\n3...</td>\n      <td>0.013388</td>\n      <td>0.066085</td>\n      <td>0.797410</td>\n      <td>0.132202</td>\n    </tr>\n  </tbody>\n</table>\n</div>"
     },
     "execution_count": 2,
     "metadata": {},
     "output_type": "execute_result"
    }
   ],
   "source": [
    "from functions.statistics.stats import get_stats_from_all_hill_curves\n",
    "\n",
    "stats_uhe1, stats_uhe2, stats_uhe3, stats_uhe4 =\\\n",
    "    get_stats_from_all_hill_curves(N=20)\n",
    "\n",
    "type(stats_uhe1)\n",
    "stats_uhe1.head(5)"
   ],
   "metadata": {
    "collapsed": false,
    "pycharm": {
     "name": "#%%\n"
    }
   }
  },
  {
   "cell_type": "code",
   "execution_count": 1,
   "outputs": [],
   "source": [],
   "metadata": {
    "collapsed": false,
    "pycharm": {
     "name": "#%%\n"
    }
   }
  }
 ],
 "metadata": {
  "kernelspec": {
   "display_name": "Python 3",
   "language": "python",
   "name": "python3"
  },
  "language_info": {
   "codemirror_mode": {
    "name": "ipython",
    "version": 2
   },
   "file_extension": ".py",
   "mimetype": "text/x-python",
   "name": "python",
   "nbconvert_exporter": "python",
   "pygments_lexer": "ipython2",
   "version": "2.7.6"
  },
  "pycharm": {
   "stem_cell": {
    "cell_type": "raw",
    "source": [
     "\n"
    ],
    "metadata": {
     "collapsed": false
    }
   }
  }
 },
 "nbformat": 4,
 "nbformat_minor": 0
}