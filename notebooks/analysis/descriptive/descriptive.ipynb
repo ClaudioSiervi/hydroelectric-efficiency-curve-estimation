{
 "cells": [
  {
   "cell_type": "code",
   "execution_count": null,
   "metadata": {
    "collapsed": true
   },
   "outputs": [],
   "source": []
  },
  {
   "cell_type": "markdown",
   "source": [
    "## Descriptive Analysis"
   ],
   "metadata": {
    "collapsed": false
   }
  },
  {
   "cell_type": "code",
   "execution_count": 1,
   "outputs": [],
   "source": [
    "from functions.read_xls import read_hill_curve_dataset\n",
    "\n",
    "from functions.statistics.stats import get_stats_from_all_hill_curves\n",
    "\n",
    "#    Samples of Hill Curves\n",
    "# of 4 Hydroelectric Turbines\n",
    "# of 4 Hydropower plants from Brazil Electrical System\n",
    "\n",
    "uhe1_data, uhe2_data, uhe3_data, uhe4_data = read_hill_curve_dataset()\n",
    "\n"
   ],
   "metadata": {
    "collapsed": false,
    "pycharm": {
     "name": "#%%\n"
    }
   }
  },
  {
   "cell_type": "code",
   "execution_count": 2,
   "outputs": [
    {
     "data": {
      "text/plain": "           queda       vazao  rendimento\ncount  160.00000  160.000000  160.000000\nmean    66.20625  399.940000    0.887474\nstd      9.74976   92.390053    0.060566\nmin     50.00000  250.000000    0.686915\n25%     58.00000  325.000000    0.861551\n50%     67.00000  400.000000    0.905173\n75%     74.00000  475.000000    0.934737\nmax     82.00000  550.000000    0.957547",
      "text/html": "<div>\n<style scoped>\n    .dataframe tbody tr th:only-of-type {\n        vertical-align: middle;\n    }\n\n    .dataframe tbody tr th {\n        vertical-align: top;\n    }\n\n    .dataframe thead th {\n        text-align: right;\n    }\n</style>\n<table border=\"1\" class=\"dataframe\">\n  <thead>\n    <tr style=\"text-align: right;\">\n      <th></th>\n      <th>queda</th>\n      <th>vazao</th>\n      <th>rendimento</th>\n    </tr>\n  </thead>\n  <tbody>\n    <tr>\n      <th>count</th>\n      <td>160.00000</td>\n      <td>160.000000</td>\n      <td>160.000000</td>\n    </tr>\n    <tr>\n      <th>mean</th>\n      <td>66.20625</td>\n      <td>399.940000</td>\n      <td>0.887474</td>\n    </tr>\n    <tr>\n      <th>std</th>\n      <td>9.74976</td>\n      <td>92.390053</td>\n      <td>0.060566</td>\n    </tr>\n    <tr>\n      <th>min</th>\n      <td>50.00000</td>\n      <td>250.000000</td>\n      <td>0.686915</td>\n    </tr>\n    <tr>\n      <th>25%</th>\n      <td>58.00000</td>\n      <td>325.000000</td>\n      <td>0.861551</td>\n    </tr>\n    <tr>\n      <th>50%</th>\n      <td>67.00000</td>\n      <td>400.000000</td>\n      <td>0.905173</td>\n    </tr>\n    <tr>\n      <th>75%</th>\n      <td>74.00000</td>\n      <td>475.000000</td>\n      <td>0.934737</td>\n    </tr>\n    <tr>\n      <th>max</th>\n      <td>82.00000</td>\n      <td>550.000000</td>\n      <td>0.957547</td>\n    </tr>\n  </tbody>\n</table>\n</div>"
     },
     "execution_count": 2,
     "metadata": {},
     "output_type": "execute_result"
    }
   ],
   "source": [
    "uhe1_data.describe()\n",
    "uhe2_data.describe()"
   ],
   "metadata": {
    "collapsed": false,
    "pycharm": {
     "name": "#%%\n"
    }
   }
  },
  {
   "cell_type": "code",
   "execution_count": 3,
   "outputs": [
    {
     "name": "stdout",
     "output_type": "stream",
     "text": [
      "UHE 1 \n",
      "                queda     vazao  rendimento\n",
      "queda       1.000000  0.384033    0.126179\n",
      "vazao       0.384033  1.000000    0.469731\n",
      "rendimento  0.126179  0.469731    1.000000 \n",
      " \n",
      " UHE 2 \n",
      "                queda     vazao  rendimento\n",
      "queda       1.000000  0.017751    0.222853\n",
      "vazao       0.017751  1.000000    0.849790\n",
      "rendimento  0.222853  0.849790    1.000000 \n",
      " \n",
      " UHE 3 \n",
      "                queda     vazao  rendimento\n",
      "queda       1.000000  0.111331    0.366889\n",
      "vazao       0.111331  1.000000    0.761915\n",
      "rendimento  0.366889  0.761915    1.000000 \n",
      " \n",
      " UHE 4 \n",
      "                queda     vazao  rendimento\n",
      "queda       1.000000  0.011821    0.052371\n",
      "vazao       0.011821  1.000000    0.864349\n",
      "rendimento  0.052371  0.864349    1.000000\n"
     ]
    }
   ],
   "source": [
    "# Correlation between features of each sample\n",
    "\n",
    "print(\n",
    "    \"UHE 1 \\n\",\n",
    "    uhe1_data.corr(method='pearson'),\n",
    "    \"\\n \\n UHE 2 \\n\",\n",
    "    uhe2_data.corr(method='pearson'),\n",
    "    \"\\n \\n UHE 3 \\n\",\n",
    "    uhe3_data.corr(method='pearson'),\n",
    "    \"\\n \\n UHE 4 \\n\",\n",
    "    uhe4_data.corr(method='pearson')\n",
    ")"
   ],
   "metadata": {
    "collapsed": false,
    "pycharm": {
     "name": "#%%\n"
    }
   }
  }
 ],
 "metadata": {
  "kernelspec": {
   "display_name": "Python 3",
   "language": "python",
   "name": "python3"
  },
  "language_info": {
   "codemirror_mode": {
    "name": "ipython",
    "version": 2
   },
   "file_extension": ".py",
   "mimetype": "text/x-python",
   "name": "python",
   "nbconvert_exporter": "python",
   "pygments_lexer": "ipython2",
   "version": "2.7.6"
  }
 },
 "nbformat": 4,
 "nbformat_minor": 0
}