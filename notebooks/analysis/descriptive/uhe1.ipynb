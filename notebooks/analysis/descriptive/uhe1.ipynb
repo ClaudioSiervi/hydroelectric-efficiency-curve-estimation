{
 "cells": [
  {
   "cell_type": "markdown",
   "source": [
    "## Descriptive Analysis UHE 1"
   ],
   "metadata": {
    "collapsed": false
   }
  },
  {
   "cell_type": "code",
   "execution_count": 5,
   "outputs": [],
   "source": [
    "from functions.read_xls import read_hill_curve_dataset\n",
    "\n",
    "uhe1_data, _, _, _ = read_hill_curve_dataset()"
   ],
   "metadata": {
    "collapsed": false,
    "pycharm": {
     "name": "#%%\n"
    }
   }
  },
  {
   "cell_type": "code",
   "execution_count": 6,
   "outputs": [
    {
     "data": {
      "text/plain": "           queda       vazao  rendimento\ncount  63.000000   63.000000   63.000000\nmean   40.539683  257.460317    0.832222\nstd     4.848762   45.789429    0.033861\nmin    32.000000  180.000000    0.770000\n25%    36.000000  220.000000    0.810000\n50%    40.000000  260.000000    0.830000\n75%    44.000000  300.000000    0.850000\nmax    48.000000  340.000000    0.910000",
      "text/html": "<div>\n<style scoped>\n    .dataframe tbody tr th:only-of-type {\n        vertical-align: middle;\n    }\n\n    .dataframe tbody tr th {\n        vertical-align: top;\n    }\n\n    .dataframe thead th {\n        text-align: right;\n    }\n</style>\n<table border=\"1\" class=\"dataframe\">\n  <thead>\n    <tr style=\"text-align: right;\">\n      <th></th>\n      <th>queda</th>\n      <th>vazao</th>\n      <th>rendimento</th>\n    </tr>\n  </thead>\n  <tbody>\n    <tr>\n      <th>count</th>\n      <td>63.000000</td>\n      <td>63.000000</td>\n      <td>63.000000</td>\n    </tr>\n    <tr>\n      <th>mean</th>\n      <td>40.539683</td>\n      <td>257.460317</td>\n      <td>0.832222</td>\n    </tr>\n    <tr>\n      <th>std</th>\n      <td>4.848762</td>\n      <td>45.789429</td>\n      <td>0.033861</td>\n    </tr>\n    <tr>\n      <th>min</th>\n      <td>32.000000</td>\n      <td>180.000000</td>\n      <td>0.770000</td>\n    </tr>\n    <tr>\n      <th>25%</th>\n      <td>36.000000</td>\n      <td>220.000000</td>\n      <td>0.810000</td>\n    </tr>\n    <tr>\n      <th>50%</th>\n      <td>40.000000</td>\n      <td>260.000000</td>\n      <td>0.830000</td>\n    </tr>\n    <tr>\n      <th>75%</th>\n      <td>44.000000</td>\n      <td>300.000000</td>\n      <td>0.850000</td>\n    </tr>\n    <tr>\n      <th>max</th>\n      <td>48.000000</td>\n      <td>340.000000</td>\n      <td>0.910000</td>\n    </tr>\n  </tbody>\n</table>\n</div>"
     },
     "execution_count": 6,
     "metadata": {},
     "output_type": "execute_result"
    }
   ],
   "source": [
    "uhe1_data.describe()\n"
   ],
   "metadata": {
    "collapsed": false,
    "pycharm": {
     "name": "#%%\n"
    }
   }
  },
  {
   "cell_type": "code",
   "execution_count": 7,
   "outputs": [
    {
     "data": {
      "text/plain": "               queda     vazao  rendimento\nqueda       1.000000  0.384033    0.126179\nvazao       0.384033  1.000000    0.469731\nrendimento  0.126179  0.469731    1.000000",
      "text/html": "<div>\n<style scoped>\n    .dataframe tbody tr th:only-of-type {\n        vertical-align: middle;\n    }\n\n    .dataframe tbody tr th {\n        vertical-align: top;\n    }\n\n    .dataframe thead th {\n        text-align: right;\n    }\n</style>\n<table border=\"1\" class=\"dataframe\">\n  <thead>\n    <tr style=\"text-align: right;\">\n      <th></th>\n      <th>queda</th>\n      <th>vazao</th>\n      <th>rendimento</th>\n    </tr>\n  </thead>\n  <tbody>\n    <tr>\n      <th>queda</th>\n      <td>1.000000</td>\n      <td>0.384033</td>\n      <td>0.126179</td>\n    </tr>\n    <tr>\n      <th>vazao</th>\n      <td>0.384033</td>\n      <td>1.000000</td>\n      <td>0.469731</td>\n    </tr>\n    <tr>\n      <th>rendimento</th>\n      <td>0.126179</td>\n      <td>0.469731</td>\n      <td>1.000000</td>\n    </tr>\n  </tbody>\n</table>\n</div>"
     },
     "execution_count": 7,
     "metadata": {},
     "output_type": "execute_result"
    }
   ],
   "source": [
    "# Correlation between features of each sample\n",
    "uhe1_data.corr(method='pearson')"
   ],
   "metadata": {
    "collapsed": false,
    "pycharm": {
     "name": "#%%\n"
    }
   }
  },
  {
   "cell_type": "code",
   "execution_count": 8,
   "outputs": [
    {
     "data": {
      "text/plain": "<seaborn.axisgrid.PairGrid at 0x12b965880>"
     },
     "execution_count": 8,
     "metadata": {},
     "output_type": "execute_result"
    },
    {
     "data": {
      "text/plain": "<Figure size 432x432 with 9 Axes>",
      "image/png": "[encoded data removed]"
     },
     "metadata": {
      "needs_background": "light"
     },
     "output_type": "display_data"
    }
   ],
   "source": [
    "\"\"\"\n",
    "A dispersão do rendimento em relação à queda, engolimento e abertura do distribuidor mostra um comportamento não linear.\n",
    "\"\"\"\n",
    "import seaborn as sns\n",
    "\n",
    "sns.pairplot(\n",
    "    data=uhe1_data,\n",
    "    height=2.0,\n",
    "    corner=True\n",
    ")\n"
   ],
   "metadata": {
    "collapsed": false,
    "pycharm": {
     "name": "#%%\n"
    }
   }
  },
  {
   "cell_type": "code",
   "execution_count": 8,
   "outputs": [],
   "source": [],
   "metadata": {
    "collapsed": false,
    "pycharm": {
     "name": "#%%\n"
    }
   }
  }
 ],
 "metadata": {
  "kernelspec": {
   "name": "python3",
   "language": "python",
   "display_name": "Python 3 (ipykernel)"
  },
  "language_info": {
   "codemirror_mode": {
    "name": "ipython",
    "version": 2
   },
   "file_extension": ".py",
   "mimetype": "text/x-python",
   "name": "python",
   "nbconvert_exporter": "python",
   "pygments_lexer": "ipython2",
   "version": "3.9.7"
  }
 },
 "nbformat": 4,
 "nbformat_minor": 0
}